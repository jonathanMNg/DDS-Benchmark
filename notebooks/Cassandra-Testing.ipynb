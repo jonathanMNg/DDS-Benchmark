{
 "cells": [
  {
   "cell_type": "markdown",
   "metadata": {},
   "source": [
    "### Block used for cassandra functions"
   ]
  },
  {
   "cell_type": "code",
   "execution_count": 2,
   "metadata": {},
   "outputs": [
    {
     "ename": "ModuleNotFoundError",
     "evalue": "No module named 'numpy'",
     "output_type": "error",
     "traceback": [
      "\u001b[0;31m---------------------------------------------------------------------------\u001b[0m",
      "\u001b[0;31mModuleNotFoundError\u001b[0m                       Traceback (most recent call last)",
      "\u001b[0;32m<ipython-input-2-c9a39970869d>\u001b[0m in \u001b[0;36m<module>\u001b[0;34m()\u001b[0m\n\u001b[1;32m      1\u001b[0m \u001b[0;32mimport\u001b[0m \u001b[0mos\u001b[0m\u001b[0;34m\u001b[0m\u001b[0m\n\u001b[1;32m      2\u001b[0m \u001b[0;32mimport\u001b[0m \u001b[0msys\u001b[0m\u001b[0;34m\u001b[0m\u001b[0m\n\u001b[0;32m----> 3\u001b[0;31m \u001b[0;32mimport\u001b[0m \u001b[0mnumpy\u001b[0m\u001b[0;34m\u001b[0m\u001b[0m\n\u001b[0m\u001b[1;32m      4\u001b[0m \u001b[0mmodule_path\u001b[0m \u001b[0;34m=\u001b[0m \u001b[0mos\u001b[0m\u001b[0;34m.\u001b[0m\u001b[0mpath\u001b[0m\u001b[0;34m.\u001b[0m\u001b[0mabspath\u001b[0m\u001b[0;34m(\u001b[0m\u001b[0mos\u001b[0m\u001b[0;34m.\u001b[0m\u001b[0mpath\u001b[0m\u001b[0;34m.\u001b[0m\u001b[0mjoin\u001b[0m\u001b[0;34m(\u001b[0m\u001b[0;34m'../cassandra'\u001b[0m\u001b[0;34m)\u001b[0m\u001b[0;34m)\u001b[0m\u001b[0;34m\u001b[0m\u001b[0m\n\u001b[1;32m      5\u001b[0m \u001b[0;32mif\u001b[0m \u001b[0mmodule_path\u001b[0m \u001b[0;32mnot\u001b[0m \u001b[0;32min\u001b[0m \u001b[0msys\u001b[0m\u001b[0;34m.\u001b[0m\u001b[0mpath\u001b[0m\u001b[0;34m:\u001b[0m\u001b[0;34m\u001b[0m\u001b[0m\n",
      "\u001b[0;31mModuleNotFoundError\u001b[0m: No module named 'numpy'"
     ]
    }
   ],
   "source": [
    "import os\n",
    "import sys\n",
    "import numpy\n",
    "module_path = os.path.abspath(os.path.join('../cassandra'))\n",
    "if module_path not in sys.path:\n",
    "    sys.path.append(module_path)"
   ]
  },
  {
   "cell_type": "markdown",
   "metadata": {},
   "source": [
    "### Import all functions need for this test"
   ]
  },
  {
   "cell_type": "code",
   "execution_count": 5,
   "metadata": {},
   "outputs": [],
   "source": [
    "from cassandra.cluster import Cluster\n",
    "from functions import *\n",
    "from cassandra import ConsistencyLevel\n",
    "from datetime import datetime\n",
    "import time"
   ]
  },
  {
   "cell_type": "markdown",
   "metadata": {},
   "source": [
    "### Define Keyspace and init cluster"
   ]
  },
  {
   "cell_type": "code",
   "execution_count": null,
   "metadata": {},
   "outputs": [],
   "source": [
    "KEYSPACE = 'benchmark'\n",
    "cluster = Cluster()\n"
   ]
  },
  {
   "cell_type": "markdown",
   "metadata": {},
   "source": [
    "### Parse CSV file into array and fine its header"
   ]
  },
  {
   "cell_type": "code",
   "execution_count": null,
   "metadata": {},
   "outputs": [],
   "source": [
    "\n",
    "filename = '../tmdb_5000_movies.csv'\n",
    "csv_data = parse_CSV(filename)\n",
    "csv_header = csv_data.pop(0)"
   ]
  },
  {
   "cell_type": "markdown",
   "metadata": {},
   "source": [
    "### Change the array into dictionary based on its header"
   ]
  },
  {
   "cell_type": "code",
   "execution_count": null,
   "metadata": {},
   "outputs": [],
   "source": [
    "movies_table = []\n",
    "\n",
    "for row in csv_data:\n",
    "    dict_row = {}\n",
    "    for i, col_name in enumerate(csv_header):\n",
    "        dict_row[col_name] = row[i]\n",
    "    movies_table.append(dict_row)"
   ]
  },
  {
   "cell_type": "markdown",
   "metadata": {},
   "source": [
    "### Init KeySpace"
   ]
  },
  {
   "cell_type": "code",
   "execution_count": null,
   "metadata": {},
   "outputs": [],
   "source": [
    "\n",
    "session = cluster.connect()\n",
    "drop_keyspace(session, KEYSPACE)\n",
    "create_keyspace(session, KEYSPACE)\n",
    "\n",
    "session.set_keyspace(KEYSPACE)"
   ]
  },
  {
   "cell_type": "markdown",
   "metadata": {},
   "source": [
    "### Prepare queries"
   ]
  },
  {
   "cell_type": "code",
   "execution_count": null,
   "metadata": {},
   "outputs": [],
   "source": [
    "create_movies_table_query = \"\"\"\n",
    "                                CREATE TABLE IF NOT EXISTS benchmark.movies (\n",
    "                                type text,\n",
    "                                id int,\n",
    "                                title text,\n",
    "                                popularity float,\n",
    "                                vote_average float,\n",
    "                                runtime int,\n",
    "                                budget varint,\n",
    "                                revenue varint,\n",
    "                                release_date timestamp,\n",
    "                                PRIMARY KEY (type, revenue)\n",
    "                                );\n",
    "                            \"\"\"\n",
    "\n",
    "insert_movie_query = \"\"\"\n",
    "                        INSERT INTO benchmark.movies (type, id, title, popularity, vote_average, runtime, budget, revenue, release_date) VALUES (?, ?, ?, ?, ?, ?, ?, ?, ?);\n",
    "                     \"\"\""
   ]
  },
  {
   "cell_type": "code",
   "execution_count": 10,
   "metadata": {},
   "outputs": [
    {
     "ename": "ModuleNotFoundError",
     "evalue": "No module named 'matplotlib'",
     "output_type": "error",
     "traceback": [
      "\u001b[0;31m---------------------------------------------------------------------------\u001b[0m",
      "\u001b[0;31mModuleNotFoundError\u001b[0m                       Traceback (most recent call last)",
      "\u001b[0;32m<ipython-input-10-edae482a71d8>\u001b[0m in \u001b[0;36m<module>\u001b[0;34m()\u001b[0m\n\u001b[1;32m      1\u001b[0m \u001b[0;31m# Movies data processing start\u001b[0m\u001b[0;34m\u001b[0m\u001b[0;34m\u001b[0m\u001b[0m\n\u001b[1;32m      2\u001b[0m \u001b[0;34m\u001b[0m\u001b[0m\n\u001b[0;32m----> 3\u001b[0;31m \u001b[0;32mimport\u001b[0m \u001b[0mmatplotlib\u001b[0m\u001b[0;34m.\u001b[0m\u001b[0mpyplot\u001b[0m \u001b[0;32mas\u001b[0m \u001b[0mplt\u001b[0m\u001b[0;34m\u001b[0m\u001b[0m\n\u001b[0m\u001b[1;32m      4\u001b[0m \u001b[0mprint\u001b[0m\u001b[0;34m(\u001b[0m\u001b[0;34m\"Starting timing query...\"\u001b[0m\u001b[0;34m)\u001b[0m\u001b[0;34m\u001b[0m\u001b[0m\n\u001b[1;32m      5\u001b[0m \u001b[0mstart\u001b[0m \u001b[0;34m=\u001b[0m \u001b[0mtime\u001b[0m\u001b[0;34m.\u001b[0m\u001b[0mtime\u001b[0m\u001b[0;34m(\u001b[0m\u001b[0;34m)\u001b[0m\u001b[0;34m\u001b[0m\u001b[0m\n",
      "\u001b[0;31mModuleNotFoundError\u001b[0m: No module named 'matplotlib'"
     ]
    }
   ],
   "source": [
    "# Movies data processing start\n",
    "\n",
    "print(\"Starting timing query...\")\n",
    "start = time.time()\n",
    "# Create table\n",
    "session.execute(create_movies_table_query)\n",
    "# Prepare queries for insert data\n",
    "prepared_insert_movie_query = session.prepare(insert_movie_query)\n",
    "# Set consistency level\n",
    "prepared_insert_movie_query.consistency_level = ConsistencyLevel.LOCAL_ONE\n",
    "# Insert data into table\n",
    "timing = []\n",
    "for _ in range(3):\n",
    "    for movie in movies_table:\n",
    "        session.execute(prepared_insert_movie_query, (\n",
    "                                                     'movie',\n",
    "                                                     int(movie['id']),\n",
    "                                                     movie['title'],\n",
    "                                                     float(movie['popularity']),\n",
    "                                                     float(movie['vote_average']),\n",
    "                                                     int(get_safe_string(movie['runtime'].split('.')[0])),\n",
    "                                                     int(movie['budget']),\n",
    "                                                     int(movie['revenue']),\n",
    "                                                     datetime.strptime(get_safe_date(movie['release_date']), '%Y-%m-%d')))\n",
    "    # Select top 10 movies with the highest revenue\n",
    "    select_user_query = \"\"\"\n",
    "                            SELECT * FROM benchmark.movies WHERE type='movie' ORDER BY revenue DESC LIMIT 10;\n",
    "                        \"\"\"\n",
    "    # Output\n",
    "    rows = session.execute(select_user_query)\n",
    "    session.shutdown()\n",
    "    for row in (rows):\n",
    "        print(\"{title:50} {:,}\".format(row.revenue, title=row.title))\n",
    "\n",
    "    end = time.time()\n",
    "    timing.append(end - start)\n",
    "\n",
    "plt.plot([1,2,3], timing, 'ro')\n",
    "plt.axis([0, 3, 0, 5])\n",
    "plt.show()"
   ]
  },
  {
   "cell_type": "code",
   "execution_count": null,
   "metadata": {},
   "outputs": [],
   "source": []
  }
 ],
 "metadata": {
  "kernelspec": {
   "display_name": "Python 3",
   "language": "python",
   "name": "python3"
  },
  "language_info": {
   "codemirror_mode": {
    "name": "ipython",
    "version": 3
   },
   "file_extension": ".py",
   "mimetype": "text/x-python",
   "name": "python",
   "nbconvert_exporter": "python",
   "pygments_lexer": "ipython3",
   "version": "3.6.5"
  }
 },
 "nbformat": 4,
 "nbformat_minor": 2
}
